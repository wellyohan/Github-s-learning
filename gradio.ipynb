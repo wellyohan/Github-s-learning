{
  "nbformat": 4,
  "nbformat_minor": 0,
  "metadata": {
    "colab": {
      "provenance": [],
      "gpuType": "T4",
      "authorship_tag": "ABX9TyN1XM+gllqw0Wl8sqxuBx2n",
      "include_colab_link": true
    },
    "kernelspec": {
      "name": "python3",
      "display_name": "Python 3"
    },
    "language_info": {
      "name": "python"
    },
    "accelerator": "GPU"
  },
  "cells": [
    {
      "cell_type": "markdown",
      "metadata": {
        "id": "view-in-github",
        "colab_type": "text"
      },
      "source": [
        "<a href=\"https://colab.research.google.com/github/wellyohan/Github-s-learning/blob/main/gradio.ipynb\" target=\"_parent\"><img src=\"https://colab.research.google.com/assets/colab-badge.svg\" alt=\"Open In Colab\"/></a>"
      ]
    },
    {
      "cell_type": "code",
      "execution_count": null,
      "metadata": {
        "id": "AWKEIlt5DChv"
      },
      "outputs": [],
      "source": [
        "!pip install gradio\n",
        "!pip install sentencepiece\n",
        "import gradio as gr\n",
        "import transformers\n",
        "from transformers import  pipeline\n",
        "pipe = pipeline(task=\"automatic-speech-recognition\", model=\"jonatasgrosman/wav2vec2-large-xlsr-53-english\")\n",
        "gr.Interface.from_pipeline(pipe, title='ASR with Facebook',\n",
        "                           description=\"Pipeline with ASR\").launch(inbrowser=True)"
      ]
    }
  ]
}