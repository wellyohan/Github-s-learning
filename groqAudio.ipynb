{
  "nbformat": 4,
  "nbformat_minor": 0,
  "metadata": {
    "colab": {
      "provenance": [],
      "authorship_tag": "ABX9TyP6ZxyztHOU8v0ZrqMzpWHj",
      "include_colab_link": true
    },
    "kernelspec": {
      "name": "python3",
      "display_name": "Python 3"
    },
    "language_info": {
      "name": "python"
    }
  },
  "cells": [
    {
      "cell_type": "markdown",
      "metadata": {
        "id": "view-in-github",
        "colab_type": "text"
      },
      "source": [
        "<a href=\"https://colab.research.google.com/github/wellyohan/Github-s-learning/blob/main/groqAudio.ipynb\" target=\"_parent\"><img src=\"https://colab.research.google.com/assets/colab-badge.svg\" alt=\"Open In Colab\"/></a>"
      ]
    },
    {
      "cell_type": "code",
      "execution_count": 1,
      "metadata": {
        "colab": {
          "base_uri": "https://localhost:8080/"
        },
        "id": "phx4PXedqKrK",
        "outputId": "e6fdad40-d4d4-47ab-ddc6-35d42814571b"
      },
      "outputs": [
        {
          "output_type": "error",
          "ename": "ModuleNotFoundError",
          "evalue": "No module named 'streamlit'",
          "traceback": [
            "\u001b[0;31m---------------------------------------------------------------------------\u001b[0m",
            "\u001b[0;31mModuleNotFoundError\u001b[0m                       Traceback (most recent call last)",
            "\u001b[0;32m<ipython-input-1-736b0ca6bd64>\u001b[0m in \u001b[0;36m<cell line: 0>\u001b[0;34m()\u001b[0m\n\u001b[0;32m----> 1\u001b[0;31m \u001b[0;32mimport\u001b[0m \u001b[0mstreamlit\u001b[0m \u001b[0;32mas\u001b[0m \u001b[0mst\u001b[0m\u001b[0;34m\u001b[0m\u001b[0;34m\u001b[0m\u001b[0m\n\u001b[0m\u001b[1;32m      2\u001b[0m \u001b[0;32mimport\u001b[0m \u001b[0mos\u001b[0m\u001b[0;34m\u001b[0m\u001b[0;34m\u001b[0m\u001b[0m\n\u001b[1;32m      3\u001b[0m \u001b[0;32mimport\u001b[0m \u001b[0mjson\u001b[0m\u001b[0;34m\u001b[0m\u001b[0;34m\u001b[0m\u001b[0m\n\u001b[1;32m      4\u001b[0m \u001b[0;32mfrom\u001b[0m \u001b[0mgroq\u001b[0m \u001b[0;32mimport\u001b[0m \u001b[0mGroq\u001b[0m\u001b[0;34m\u001b[0m\u001b[0;34m\u001b[0m\u001b[0m\n\u001b[1;32m      5\u001b[0m \u001b[0;34m\u001b[0m\u001b[0m\n",
            "\u001b[0;31mModuleNotFoundError\u001b[0m: No module named 'streamlit'",
            "",
            "\u001b[0;31m---------------------------------------------------------------------------\u001b[0;32m\nNOTE: If your import is failing due to a missing package, you can\nmanually install dependencies using either !pip or !apt.\n\nTo view examples of installing some common dependencies, click the\n\"Open Examples\" button below.\n\u001b[0;31m---------------------------------------------------------------------------\u001b[0m\n"
          ],
          "errorDetails": {
            "actions": [
              {
                "action": "open_url",
                "actionText": "Open Examples",
                "url": "/notebooks/snippets/importing_libraries.ipynb"
              }
            ]
          }
        }
      ],
      "source": [
        "import streamlit as st\n",
        "import os\n",
        "import json\n",
        "from groq import Groq\n",
        "\n",
        "# Streamlit App Setup\n",
        "st.set_page_config(page_title=\"Audio Transcription with Groq\", layout=\"centered\")\n",
        "st.title(\"🎧 Audio Transcription App\")\n",
        "st.write(\"Upload an audio file (WAV format) to get the transcription using Groq's Whisper model.\")\n",
        "\n",
        "# Sidebar for API key input\n",
        "st.sidebar.header(\"🔐 API Key Configuration\")\n",
        "api_key = st.sidebar.text_input(\"Enter your Groq API Key\", type=\"password\")\n",
        "\n",
        "if api_key:\n",
        "    # Initialize the Groq client with API key\n",
        "    client = Groq(api_key=api_key)\n",
        "    st.sidebar.success(\"API key set successfully!\")\n",
        "\n",
        "    # File uploader\n",
        "    uploaded_file = st.file_uploader(\"Choose an audio file\", type=[\"wav\"])\n",
        "\n",
        "    if uploaded_file is not None:\n",
        "        st.audio(uploaded_file, format='audio/wav')\n",
        "\n",
        "        with st.spinner(\"Transcribing... please wait\"):\n",
        "            try:\n",
        "                # Save the uploaded file to a temporary location\n",
        "                temp_audio_path = os.path.join(\"temp_audio.wav\")\n",
        "                with open(temp_audio_path, \"wb\") as f:\n",
        "                    f.write(uploaded_file.read())\n",
        "\n",
        "                # Open and transcribe the file\n",
        "                with open(temp_audio_path, \"rb\") as file:\n",
        "                    transcription = client.audio.transcriptions.create(\n",
        "                        file=file,\n",
        "                        model=\"whisper-large-v3-turbo\",\n",
        "                        prompt=\"Specify context or spelling\",\n",
        "                        response_format=\"verbose_json\",\n",
        "                        language=\"en\",\n",
        "                        temperature=0.0\n",
        "                    )\n",
        "\n",
        "                # Display transcription\n",
        "                st.subheader(\"📝 Transcription Result:\")\n",
        "\n",
        "                # Extraction du texte uniquement depuis la transcription\n",
        "                transcribed_text = transcription.text\n",
        "                st.write(transcribed_text)\n",
        "\n",
        "                # Nettoyage du fichier temporaire\n",
        "                if os.path.exists(temp_audio_path):\n",
        "                    os.remove(temp_audio_path)\n",
        "\n",
        "            except Exception as e:\n",
        "                st.error(f\"❌ Error during transcription: {e}\")\n",
        "\n",
        "                # Nettoyage du fichier temporaire en cas d'erreur\n",
        "                if os.path.exists(temp_audio_path):\n",
        "                    os.remove(temp_audio_path)\n",
        "else:\n",
        "    st.warning(\"Please enter your Groq API key in the sidebar to continue.\")\n"
      ]
    }
  ]
}